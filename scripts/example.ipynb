{
 "cells": [
  {
   "cell_type": "code",
   "execution_count": 1,
   "metadata": {
    "metadata": {}
   },
   "outputs": [],
   "source": [
    "# === 初始化环境 ===\n",
    "import sys\n",
    "import os\n",
    "sys.path.append(os.path.abspath('../'))  # 添加项目根目录到系统路径\n",
    "\n",
    "from datetime import datetime, timedelta\n",
    "from scraper import create_session, scrape_single_date, format_url_date\n",
    "from storage import HlDataSaver, HlDataLoader\n",
    "import logging\n",
    "import json\n",
    "\n",
    "# 配置日志\n",
    "logging.basicConfig(level=logging.INFO, format='%(asctime)s [%(levelname)s] %(message)s')\n",
    "\n",
    "# === 初始化组件 ===\n",
    "session = create_session()  # 创建网络会话\n",
    "data_file = '../huangli_data.json'  # 数据文件路径"
   ]
  },
  {
   "cell_type": "code",
   "execution_count": 7,
   "metadata": {
    "metadata": {}
   },
   "outputs": [
    {
     "name": "stdout",
     "output_type": "stream",
     "text": [
      "\n",
      "=== 批量抓取演示 ===\n",
      "√ 2025-3-3 抓取成功\n",
      "\n",
      "完成！成功抓取 1/1 天数据\n"
     ]
    }
   ],
   "source": [
    "# === 批量抓取示例 ===\n",
    "def demo_batch_scrape():\n",
    "    print(\"\\n=== 批量抓取演示 ===\")\n",
    "    start_date = datetime(2025, 3, 3)\n",
    "    end_date = datetime(2025, 3, 3)\n",
    "    \n",
    "    # 生成日期列表\n",
    "    date_list = [start_date + timedelta(days=x) for x in range((end_date - start_date).days + 1)]\n",
    "    target_dates = [format_url_date(d) for d in date_list]\n",
    "    \n",
    "    # 初始化存储\n",
    "    saver = HlDataSaver(data_file)\n",
    "    \n",
    "    # 执行批量抓取\n",
    "    success_count = 0\n",
    "    for date_str in target_dates:\n",
    "        try:\n",
    "            data = scrape_single_date(date_str, session)\n",
    "            if data:\n",
    "                saver.save_incrementally([data])\n",
    "                success_count += 1\n",
    "                print(f\"√ {date_str} 抓取成功\")\n",
    "            else:\n",
    "                print(f\"× {date_str} 抓取失败\")\n",
    "        except Exception as e:\n",
    "            logging.error(f\"{date_str} 抓取异常: {str(e)}\")\n",
    "    \n",
    "    print(f\"\\n完成！成功抓取 {success_count}/{len(target_dates)} 天数据\")\n",
    "\n",
    "demo_batch_scrape()"
   ]
  },
  {
   "cell_type": "code",
   "execution_count": 9,
   "metadata": {
    "metadata": {}
   },
   "outputs": [
    {
     "name": "stdout",
     "output_type": "stream",
     "text": [
      "\n",
      "=== 数据查询演示 ===\n",
      "2025-03-03 查询结果：\n",
      "{\n",
      "  \"日期\": \"2025/03/03 00:00:00\",\n",
      "  \"星座\": \"双鱼座\",\n",
      "  \"幸运数字\": \"5、0\",\n",
      "  \"吉时\": \"庚寅时 03:00-04:59, 辛卯时 05:00-06:59, 癸巳时 09:00-10:59, 丙申时 15:00-16:59, 戊戌时 19:00-20:59, 己亥时 21:00-22:59\"\n",
      "}\n",
      "\n",
      "三月第一周数据：\n",
      "共找到 7 条记录\n",
      "2025/03/01 00:00:00: 天德\n",
      "2025/03/02 00:00:00: 白虎\n",
      "2025/03/03 00:00:00: 玉堂\n",
      "2025/03/04 00:00:00: 天牢\n",
      "2025/03/05 00:00:00: 玉堂\n",
      "2025/03/06 00:00:00: 天牢\n",
      "2025/03/07 00:00:00: 玄武\n"
     ]
    }
   ],
   "source": [
    "# === 数据查询示例 ===\n",
    "def demo_data_query():\n",
    "    print(\"\\n=== 数据查询演示 ===\")\n",
    "    loader = HlDataLoader(data_file)\n",
    "    \n",
    "    # 单日查询\n",
    "    test_date = \"2025-03-03\"\n",
    "    data = loader.get_by_date(test_date)\n",
    "    if data:\n",
    "        print(f\"{test_date} 查询结果：\")\n",
    "        print(json.dumps({\n",
    "            \"日期\": data[\"datekey\"],\n",
    "            \"星座\": data[\"constellation\"],\n",
    "            \"幸运数字\": data[\"lucky_num\"],\n",
    "            \"吉时\": data[\"lucky_time\"]\n",
    "        }, indent=2, ensure_ascii=False))\n",
    "    else:\n",
    "        print(\"未找到该日期数据\")\n",
    "    \n",
    "    # 范围查询\n",
    "    print(\"\\n三月第一周数据：\")\n",
    "    results = loader.filter_data(\n",
    "        start_date=datetime(2025,3,1),\n",
    "        end_date=datetime(2025,3,7)\n",
    "    )\n",
    "    print(f\"共找到 {len(results)} 条记录\")\n",
    "    for item in results:\n",
    "        print(f\"{item['datekey']}: {item['zs']}\")\n",
    "\n",
    "demo_data_query()"
   ]
  },
  {
   "cell_type": "code",
   "execution_count": 9,
   "metadata": {
    "metadata": {}
   },
   "outputs": [
    {
     "name": "stdout",
     "output_type": "stream",
     "text": [
      "\n",
      "=== 数据统计演示 ===\n",
      "总数据量: 1 天\n",
      "\n",
      "最常见的5个吉神宜趋：\n",
      "1. 相日 宝光 (1次)\n",
      "\n",
      "数据完整性检查：\n",
      "✅ 所有数据完整有效\n"
     ]
    }
   ],
   "source": [
    "# === 数据统计示例 ===\n",
    "def demo_statistics():\n",
    "    print(\"\\n=== 数据统计演示 ===\")\n",
    "    loader = HlDataLoader(data_file)\n",
    "    \n",
    "    stats = loader.get_statistics()\n",
    "    print(f\"总数据量: {stats['total_days']} 天\")\n",
    "    print(\"\\n最常见的5个吉神宜趋：\")\n",
    "    for idx, (item, count) in enumerate(stats['most_common_jsyq'][:5], 1):\n",
    "        print(f\"{idx}. {item} ({count}次)\")\n",
    "    \n",
    "    # 数据校验\n",
    "    print(\"\\n数据完整性检查：\")\n",
    "    errors = loader.validate_data()\n",
    "    if not errors:\n",
    "        print(\"✅ 所有数据完整有效\")\n",
    "    else:\n",
    "        print(f\"发现 {len(errors)} 个问题：\")\n",
    "        for error in errors[:3]:  # 只显示前3个错误\n",
    "            print(f\"⚠ {error}\")\n",
    "\n",
    "demo_statistics()"
   ]
  }
 ],
 "metadata": {
  "kernelspec": {
   "display_name": "Python 3",
   "language": "python",
   "name": "python3"
  },
  "language_info": {
   "codemirror_mode": {
    "name": "ipython",
    "version": 3
   },
   "file_extension": ".py",
   "mimetype": "text/x-python",
   "name": "python",
   "nbconvert_exporter": "python",
   "pygments_lexer": "ipython3",
   "version": "3.9.6"
  }
 },
 "nbformat": 4,
 "nbformat_minor": 2
}
