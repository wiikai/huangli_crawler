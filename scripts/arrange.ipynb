{
 "cells": [
  {
   "cell_type": "code",
   "execution_count": 13,
   "metadata": {},
   "outputs": [],
   "source": [
    "import json\n",
    "from datetime import datetime\n",
    "\n",
    "def read_almanac(json_path, target_date):\n",
    "    # 读取JSON文件\n",
    "    with open(json_path, 'r', encoding='utf-8') as f:\n",
    "        data = json.load(f)\n",
    "    \n",
    "    # 转换输入日期格式为YYYY/MM/DD\n",
    "    try:\n",
    "        dt = datetime.strptime(target_date, \"%Y-%m-%d\")\n",
    "        search_date = dt.strftime(\"%Y/%m/%d\") + \" 00:00:00\"\n",
    "    except ValueError:\n",
    "        return \"日期格式错误，请使用YYYY-MM-DD格式\"\n",
    "\n",
    "    # 查找对应日期的数据\n",
    "    entry = None\n",
    "    for item in data[\"data\"]:\n",
    "        if item[\"datekey\"] == search_date:\n",
    "            entry = item\n",
    "            break\n",
    "    \n",
    "    if not entry:\n",
    "        return f\"未找到 {target_date} 的数据\"\n",
    "\n",
    "    # 生成结构化文本\n",
    "    output = f\"\"\"\\\n",
    " 请基于黄历内容生成今日的12生肖的整体运势：  \n",
    "【日期】{entry['datekey'][:10].replace('/', '年', 1).replace('/', '月', 1)}日（农历{entry['lunar']}）{entry['weeks']} \n",
    "【干支】{entry['ganzhi']}\n",
    "【宜】{entry['yi']}\n",
    "【忌】{entry['ji']}\n",
    "【吉神】{entry['jsyq']}\n",
    "【凶神】{entry['xsyq']}\n",
    "【冲煞】{entry['cs']}\n",
    "【今日五行】{entry['wuxing_day']}\n",
    "【吉色】{entry['good_color']}\n",
    "【不宜色】{entry['bad_color']}\n",
    "【幸运数字】{entry['lucky_num']}\n",
    "【生肖冲合】{entry['conflict_sx']}\n",
    "【值神】{entry['zs']}（{entry['day']}）\n",
    "【建神】{entry['jianxing']}\n",
    "【节气】{entry['jieqi']}{entry['next_jieqi']}\n",
    "【吉时】{entry['lucky_time']}\n",
    "【方位】{entry['godposition']}\n",
    "【彭祖百忌】{entry['pzbj']}\n",
    "【大吉生肖】{entry['good_sx']}\n",
    "【带衰生肖】{entry['bad_sx']}\n",
    "【贵人时辰】{entry['noble_time']}\n",
    "【胎神方位】{entry['taishen']}\n",
    "\n",
    "参考句式1： \n",
    "蛇（巳） ★☆☆☆☆\n",
    "日冲生肖，运势低迷。职场易生冲突，重要决策建议延后。破财风险高，勿携带贵重物品外出。感情易冷战，多包容对方情绪。健康严防头痛发热，避免熬夜。静坐冥想有助平复心绪。\n",
    "评分：1星（诸事不宜，以退为进）\n",
    "参考句式2： \n",
    "马（午） ★★★★☆\n",
    "水火既济，运势回暖。工作灵感迸发，创意类任务表现亮眼。财运亨通，可收回旧债。感情甜蜜，宜策划惊喜增进默契。健康注意眼部疲劳，适时远眺放松。红色系穿搭提升运势。\n",
    "评分：4星（积极行动，成果可期）\n",
    "参考句式3： \n",
    "猴（申） ★★☆☆☆\n",
    "申亥相害，阻力倍增。工作易受琐事牵绊，需合理分配时间。财运不佳，网购易超支。感情沟通不畅，避免过度较真。健康慎防过敏，注意饮食卫生。佩戴银饰可缓解负面能量。\n",
    "评分：2星（低调行事，以守代攻）\n",
    "\"\"\"\n",
    "\n",
    "    return output\n"
   ]
  },
  {
   "cell_type": "code",
   "execution_count": 18,
   "metadata": {},
   "outputs": [
    {
     "name": "stdout",
     "output_type": "stream",
     "text": [
      "未找到 2025-03-04 的数据\n"
     ]
    }
   ],
   "source": [
    "# 使用示例\n",
    "if __name__ == \"__main__\":\n",
    "    # 测试日期\n",
    "    result = read_almanac('../huangli_data.json', '2025-03-04')\n",
    "    print(result)"
   ]
  }
 ],
 "metadata": {
  "kernelspec": {
   "display_name": "Python 3",
   "language": "python",
   "name": "python3"
  },
  "language_info": {
   "codemirror_mode": {
    "name": "ipython",
    "version": 3
   },
   "file_extension": ".py",
   "mimetype": "text/x-python",
   "name": "python",
   "nbconvert_exporter": "python",
   "pygments_lexer": "ipython3",
   "version": "3.9.6"
  }
 },
 "nbformat": 4,
 "nbformat_minor": 2
}
